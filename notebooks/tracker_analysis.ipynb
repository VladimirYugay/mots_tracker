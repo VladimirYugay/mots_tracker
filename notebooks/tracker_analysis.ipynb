{
 "cells": [
  {
   "cell_type": "markdown",
   "id": "indian-sunset",
   "metadata": {},
   "source": [
    "# In this notebook we analyze quality of a tracker conditioned on depth"
   ]
  },
  {
   "cell_type": "code",
   "execution_count": null,
   "id": "conservative-flash",
   "metadata": {},
   "outputs": [],
   "source": [
    "import matplotlib.pyplot as plt \n",
    "import pandas as pd\n",
    "import numpy as np \n",
    "from PIL import Image"
   ]
  },
  {
   "cell_type": "markdown",
   "id": "binding-wichita",
   "metadata": {},
   "source": [
    "### Compare a median tracker with inferred depth vs ground truth"
   ]
  },
  {
   "cell_type": "code",
   "execution_count": null,
   "id": "studied-sewing",
   "metadata": {},
   "outputs": [],
   "source": [
    "gt_depth_tracker = pd.read_csv('../data/interim/median_gt_depth.csv')\n",
    "inferred_depth_tracker = pd.read_csv('../data/interim/median_adabins_motsynth.csv')"
   ]
  },
  {
   "cell_type": "code",
   "execution_count": null,
   "id": "portable-jacob",
   "metadata": {},
   "outputs": [],
   "source": [
    "n = gt_depth_tracker['seq'].shape[0]\n",
    "plt.plot(np.arange(n), gt_depth_tracker['HOTA(0)'] * 100, label='GT depth')\n",
    "plt.plot(np.arange(n), inferred_depth_tracker['HOTA(0)'] * 100, label='Inferred depth')\n",
    "plt.legend()\n",
    "plt.show()"
   ]
  },
  {
   "cell_type": "code",
   "execution_count": null,
   "id": "chief-fellow",
   "metadata": {},
   "outputs": [],
   "source": [
    "diff = gt_depth_tracker['HOTA(0)'] - inferred_depth_tracker['HOTA(0)']\n",
    "plt.plot(np.arange(n), diff * 100)\n",
    "plt.show()"
   ]
  },
  {
   "cell_type": "code",
   "execution_count": null,
   "id": "placed-publisher",
   "metadata": {},
   "outputs": [],
   "source": [
    "plt.hist(np.array(diff) * 100, bins=100);"
   ]
  },
  {
   "cell_type": "code",
   "execution_count": null,
   "id": "caroline-damages",
   "metadata": {},
   "outputs": [],
   "source": [
    "gt_depth_tracker.nsmallest(10, 'HOTA(0)')"
   ]
  },
  {
   "cell_type": "code",
   "execution_count": null,
   "id": "settled-training",
   "metadata": {},
   "outputs": [],
   "source": [
    "inferred_depth_tracker.nsmallest(10, 'HOTA(0)')"
   ]
  },
  {
   "cell_type": "code",
   "execution_count": null,
   "id": "economic-dealer",
   "metadata": {},
   "outputs": [],
   "source": [
    "print(\"Worst gt HOTA joined on inferred HOTA\")\n",
    "gt_depth_tracker.join(\n",
    "    inferred_depth_tracker.set_index('seq'), \n",
    "    on='seq', \n",
    "    how='left', \n",
    "    lsuffix='_gt', \n",
    "    rsuffix='_inferred')[['seq', 'HOTA(0)_gt', 'HOTA(0)_inferred']].nsmallest(10, 'HOTA(0)_gt')"
   ]
  },
  {
   "cell_type": "code",
   "execution_count": null,
   "id": "following-school",
   "metadata": {},
   "outputs": [],
   "source": [
    "print(\"Worst inferred HOTA joined on gt HOTA\")\n",
    "inferred_depth_tracker.join(\n",
    "    gt_depth_tracker.set_index('seq'), \n",
    "    on='seq', \n",
    "    how='left', \n",
    "    lsuffix='_inferred', \n",
    "    rsuffix='_gt')[['seq', 'HOTA(0)_inferred', 'HOTA(0)_gt']].nsmallest(20, 'HOTA(0)_inferred')"
   ]
  },
  {
   "cell_type": "code",
   "execution_count": null,
   "id": "endangered-punishment",
   "metadata": {},
   "outputs": [],
   "source": [
    "# We want to find sequences with the largest degradation and fix them \n",
    "largest_diff = pd.concat([gt_depth_tracker['seq'], diff], axis=1).sort_values('HOTA(0)', ascending=False)"
   ]
  },
  {
   "cell_type": "code",
   "execution_count": null,
   "id": "pending-sociology",
   "metadata": {},
   "outputs": [],
   "source": [
    "largest_diff[:20]"
   ]
  },
  {
   "cell_type": "code",
   "execution_count": null,
   "id": "pleased-imperial",
   "metadata": {},
   "outputs": [],
   "source": [
    "for s in largest_diff[:20]['seq']:\n",
    "    print(\"\\\"{}\\\", \".format(s), end='')"
   ]
  },
  {
   "cell_type": "code",
   "execution_count": null,
   "id": "processed-violence",
   "metadata": {},
   "outputs": [],
   "source": []
  }
 ],
 "metadata": {
  "kernelspec": {
   "display_name": "Python [conda env:mots_tracker] *",
   "language": "python",
   "name": "conda-env-mots_tracker-py"
  },
  "language_info": {
   "codemirror_mode": {
    "name": "ipython",
    "version": 3
   },
   "file_extension": ".py",
   "mimetype": "text/x-python",
   "name": "python",
   "nbconvert_exporter": "python",
   "pygments_lexer": "ipython3",
   "version": "3.7.10"
  }
 },
 "nbformat": 4,
 "nbformat_minor": 5
}
